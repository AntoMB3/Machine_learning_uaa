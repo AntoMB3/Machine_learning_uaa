{
 "cells": [
  {
   "cell_type": "markdown",
   "metadata": {},
   "source": [
    "<p>12 de marzo de 2024</p>\n",
    "<p>Universidad Autónoma de Aguascalientes</p>\n",
    "<p>Departamento: Ciencias de la computación</p>\n",
    "<p>Carrera: Ingeniería en Computación Inteligente</p>\n",
    "<p>Maestro: Dr. Francisco Javier Luna Rosas</p>\n",
    "<p>Curso: Machine learning y deep learning</p>\n",
    "<p>Alumno: Antonio Muñoz Barrientos</p>\n",
    "<p>Semestre Enero - junio 2024</p>"
   ]
  },
  {
   "cell_type": "markdown",
   "metadata": {},
   "source": [
    "## Practica No. 9 Descenso de gradiente en 3d"
   ]
  },
  {
   "cell_type": "code",
   "execution_count": 1,
   "metadata": {},
   "outputs": [],
   "source": [
    "import pandas as pd\n",
    "import numpy as np\n",
    "import matplotlib.pyplot as plt\n",
    "from sklearn.model_selection import train_test_split"
   ]
  },
  {
   "cell_type": "markdown",
   "metadata": {},
   "source": [
    "#### Se define la función f(x,y) = x**2 + 3y"
   ]
  },
  {
   "cell_type": "code",
   "execution_count": 2,
   "metadata": {},
   "outputs": [],
   "source": [
    "def f(x,y):\n",
    "    return x**2 + 3*y"
   ]
  },
  {
   "cell_type": "markdown",
   "metadata": {},
   "source": [
    "#### Descenso del gradiente"
   ]
  },
  {
   "cell_type": "code",
   "execution_count": 4,
   "metadata": {},
   "outputs": [
    {
     "name": "stdout",
     "output_type": "stream",
     "text": [
      "f(-10,10) =  130\n",
      "fx0 =  130\n"
     ]
    }
   ],
   "source": [
    "### Tomar un punto al azar\n",
    "print(\"f(-10,10) = \", f(-10,10))\n",
    "\n",
    "x = -10\n",
    "y = 10\n",
    "x0 = np.array([x,y])\n",
    "fx0 = f(x0[0], x0[1])\n",
    "print(\"fx0 = \",fx0)"
   ]
  },
  {
   "cell_type": "markdown",
   "metadata": {},
   "source": [
    "### Derivada de la funcion"
   ]
  },
  {
   "cell_type": "code",
   "execution_count": 5,
   "metadata": {},
   "outputs": [],
   "source": [
    "def dx(x,y):\n",
    "    return np.array([2*x, 3])"
   ]
  },
  {
   "cell_type": "code",
   "execution_count": 6,
   "metadata": {},
   "outputs": [
    {
     "name": "stdout",
     "output_type": "stream",
     "text": [
      "derivada =  [-20   3]\n"
     ]
    }
   ],
   "source": [
    "print(\"derivada = \", dx(x0[0], x0[1]))"
   ]
  }
 ],
 "metadata": {
  "kernelspec": {
   "display_name": "Python 3",
   "language": "python",
   "name": "python3"
  },
  "language_info": {
   "codemirror_mode": {
    "name": "ipython",
    "version": 3
   },
   "file_extension": ".py",
   "mimetype": "text/x-python",
   "name": "python",
   "nbconvert_exporter": "python",
   "pygments_lexer": "ipython3",
   "version": "3.11.3"
  }
 },
 "nbformat": 4,
 "nbformat_minor": 2
}
