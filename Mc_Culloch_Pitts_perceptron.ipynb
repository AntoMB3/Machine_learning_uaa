{
 "cells": [
  {
   "cell_type": "markdown",
   "metadata": {},
   "source": [
    "<p>06 de febrero de 2024</p>\n",
    "<p>Universidad Autónoma de Aguascalientes</p>\n",
    "<p>Departamento: Ciencias de la computación</p>\n",
    "<p>Carrera: Ingeniería en Computación Inteligente</p>\n",
    "<p>Maestro: Dr. Francisco Javier Luna Rosas</p>\n",
    "<p>Alumno: Antonio Muñoz Barrientos</p>\n",
    "<p>Semestre Enero - junio 2024</p>"
   ]
  },
  {
   "cell_type": "markdown",
   "metadata": {},
   "source": [
    "# Neurona de Mc_Culloch Pitts y algoritmo de perceptrón"
   ]
  },
  {
   "cell_type": "markdown",
   "metadata": {},
   "source": [
    "Determinar si se le aprueba o no una tarjeta de crédito de un cliente considerando la edad y el ahorro en su cuenta bancaria."
   ]
  },
  {
   "cell_type": "code",
   "execution_count": 1,
   "metadata": {},
   "outputs": [],
   "source": [
    "# Librerias\n",
    "import numpy as np"
   ]
  },
  {
   "cell_type": "code",
   "execution_count": 2,
   "metadata": {},
   "outputs": [],
   "source": [
    "# Datos linealmente seperables --> [edad,ahorro]\n",
    "personas = np.array([[0.3,0.4],[0.4,0.3],\n",
    "                     [0.3,0.2],[0.4,0.1],\n",
    "                     [0.5,0.4],[0.4,0.8],\n",
    "                     [0.6,0.8],[0.5,0.6],\n",
    "                     [0.7,0.6],[0.8,0.5]])"
   ]
  },
  {
   "cell_type": "code",
   "execution_count": 7,
   "metadata": {},
   "outputs": [],
   "source": [
    "# Clases: 1: aprobada      0: no aproada\n",
    "clases = np.array([0,0,0,0,0,1,1,1,1,1])"
   ]
  },
  {
   "cell_type": "code",
   "execution_count": 8,
   "metadata": {},
   "outputs": [],
   "source": [
    "# Funcion de activacion (Neurona Mc_Culloch)\n",
    "#W1*X1 + W2*X2 + ... + wn*xn\n",
    "def activacion(pesos:np.array,x:list,bias:int):\n",
    "    z = pesos * x\n",
    "    if z.sum() + bias > 0:\n",
    "        return 1\n",
    "    else:\n",
    "        return 0"
   ]
  },
  {
   "cell_type": "code",
   "execution_count": 12,
   "metadata": {},
   "outputs": [
    {
     "data": {
      "text/plain": [
       "(array([-0.79009093, -0.37730353]), -0.5750360526131977, 0)"
      ]
     },
     "execution_count": 12,
     "metadata": {},
     "output_type": "execute_result"
    }
   ],
   "source": [
    "pesos = np.random.uniform(-1,1, size=2)\n",
    "b = np.random.uniform(-1,1)\n",
    "pesos, b, activacion(pesos=pesos,x=[0.8,0.5],bias=b)"
   ]
  },
  {
   "cell_type": "code",
   "execution_count": 16,
   "metadata": {},
   "outputs": [
    {
     "name": "stdout",
     "output_type": "stream",
     "text": [
      "5 4 2 2 0 0 0 0 0 0 0 0 0 0 0 0 0 0 0 0 0 0 0 0 0 0 0 0 0 0 0 0 0 0 0 0 0 0 0 0 0 0 0 0 0 0 0 0 0 0 0 0 0 0 0 0 0 0 0 0 0 0 0 0 0 0 0 0 0 0 0 0 0 0 0 0 0 0 0 0 0 0 0 0 0 0 0 0 0 0 0 0 0 0 0 0 0 0 0 0 "
     ]
    },
    {
     "data": {
      "text/plain": [
       "(array([0.31776902, 0.15981291]), -0.2517362750416805, 1)"
      ]
     },
     "execution_count": 16,
     "metadata": {},
     "output_type": "execute_result"
    }
   ],
   "source": [
    "# Algoritmo de perceptron\n",
    "# Max epocas = 100\n",
    "# tasa aprendizaje = 0.1\n",
    "\n",
    "\n",
    "## Entrenamiento\n",
    "pesos = np.random.uniform(-1,1, size=2)\n",
    "b = np.random.uniform(-1,1)\n",
    "tasa_aprendizaje = 0.01\n",
    "epocas = 100\n",
    "for epoca in range(epocas):\n",
    "    error_total = 0\n",
    "    # Por todas las personas\n",
    "    for persona in range(len(personas)):\n",
    "        prediccion = activacion(pesos=pesos, x=personas[persona], bias=b)\n",
    "        error = clases[persona] - prediccion\n",
    "        error_total += error**2\n",
    "        pesos[0] += tasa_aprendizaje * personas[persona][0] * error\n",
    "        pesos[1] += tasa_aprendizaje * personas[persona][1] * error\n",
    "        b += tasa_aprendizaje * error\n",
    "    print(error_total,end=\" \")\n",
    "\n",
    "## Prueba\n",
    "pesos, b, activacion(pesos=pesos,x=[0.8,0.5],bias=b)\n",
    "        "
   ]
  },
  {
   "cell_type": "code",
   "execution_count": 17,
   "metadata": {},
   "outputs": [
    {
     "name": "stdout",
     "output_type": "stream",
     "text": [
      "0\n",
      "1\n",
      "0\n"
     ]
    }
   ],
   "source": [
    "## Pruebas del algoritmo / evaluación\n",
    "print(activacion(pesos=pesos, x=[0.3,0.2], bias=b)) # Esperado: 0\n",
    "print(activacion(pesos=pesos, x=[0.5,0.6], bias=b)) # Esperado: 1\n",
    "print(activacion(pesos=pesos, x=[0.4,0.3], bias=b)) # Esperado: 0\n"
   ]
  }
 ],
 "metadata": {
  "kernelspec": {
   "display_name": "Python 3",
   "language": "python",
   "name": "python3"
  },
  "language_info": {
   "codemirror_mode": {
    "name": "ipython",
    "version": 3
   },
   "file_extension": ".py",
   "mimetype": "text/x-python",
   "name": "python",
   "nbconvert_exporter": "python",
   "pygments_lexer": "ipython3",
   "version": "3.11.3"
  }
 },
 "nbformat": 4,
 "nbformat_minor": 2
}
