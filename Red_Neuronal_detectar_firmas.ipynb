{
 "cells": [
  {
   "cell_type": "markdown",
   "metadata": {},
   "source": [
    "# Rede neuronal para detectar las firmas"
   ]
  },
  {
   "cell_type": "code",
   "execution_count": 3,
   "metadata": {},
   "outputs": [],
   "source": [
    "import cv2\n",
    "import numpy as np"
   ]
  },
  {
   "cell_type": "code",
   "execution_count": 23,
   "metadata": {},
   "outputs": [],
   "source": [
    "def obtener_parametros_firma(imagen_firma):\n",
    "    _, binaria = cv2.threshold(imagen_firma, 0, 255, cv2.THRESH_BINARY + cv2.THRESH_OTSU)\n",
    "\n",
    "    kernel = np.ones((3, 3), np.uint8)\n",
    "    opening = cv2.morphologyEx(binaria, cv2.MORPH_OPEN, kernel, iterations=2)\n",
    "    closing = cv2.morphologyEx(opening, cv2.MORPH_CLOSE, kernel, iterations=2)\n",
    "    \n",
    "\n",
    "    contornos, _ = cv2.findContours(closing, cv2.RETR_EXTERNAL, cv2.CHAIN_APPROX_SIMPLE)\n",
    "\n",
    "    area_firma = cv2.contourArea(contornos[0]) if contornos else 0\n",
    "    perimetro_firma = cv2.arcLength(contornos[0], True) if contornos else 0\n",
    "    rect = cv2.boundingRect(contornos[0]) if contornos else (0, 0, 0, 0)\n",
    "    ancho_rect, alto_rect = rect[2], rect[3]\n",
    "    relacion_aspecto = ancho_rect / alto_rect if alto_rect != 0 else 0\n",
    "\n",
    "    return area_firma, perimetro_firma, ancho_rect, alto_rect, relacion_aspecto\n",
    "\n"
   ]
  },
  {
   "cell_type": "code",
   "execution_count": 8,
   "metadata": {},
   "outputs": [],
   "source": [
    "def printI(imagen):\n",
    "    cv2.imshow('Imagen', imagen)\n",
    "    \n",
    "    cv2.waitKey(0)"
   ]
  },
  {
   "cell_type": "code",
   "execution_count": 98,
   "metadata": {},
   "outputs": [],
   "source": [
    "imagen_firma = cv2.imread(\"Extracted/Firma Extraida7.jpg\", cv2.IMREAD_GRAYSCALE)"
   ]
  },
  {
   "cell_type": "code",
   "execution_count": 35,
   "metadata": {},
   "outputs": [
    {
     "name": "stdout",
     "output_type": "stream",
     "text": [
      "Área de la firma: 73.0\n",
      "Perímetro de la firma: 33.65685415267944\n",
      "Ancho del rectángulo delimitador: 10\n",
      "Alto del rectángulo delimitador: 10\n",
      "Relación de aspecto del rectángulo delimitador: 1.0\n"
     ]
    }
   ],
   "source": [
    "\n",
    "area, perimetro, ancho, alto, relacion = obtener_parametros_firma(cv2.bitwise_not(imagen_firma))\n",
    "\n",
    "# Mostrar los parámetros\n",
    "print(\"Área de la firma:\", area)\n",
    "print(\"Perímetro de la firma:\", perimetro)\n",
    "print(\"Ancho del rectángulo delimitador:\", ancho)\n",
    "print(\"Alto del rectángulo delimitador:\", alto)\n",
    "print(\"Relación de aspecto del rectángulo delimitador:\", relacion)"
   ]
  },
  {
   "cell_type": "code",
   "execution_count": 99,
   "metadata": {},
   "outputs": [
    {
     "name": "stdout",
     "output_type": "stream",
     "text": [
      "Vector de características de trazos curvos:\n",
      "[7839, 6529, 5574, 4634, 3394, 2927, 2513, 2132, 1771, 2389, 2077, 1783, 1507]\n",
      "13\n"
     ]
    }
   ],
   "source": [
    "elementos_estructurantes = []\n",
    "for i in range(3, 10, 2):\n",
    "    elemento = cv2.getStructuringElement(cv2.MORPH_ELLIPSE, (i, i))\n",
    "    elementos_estructurantes.append(elemento)\n",
    "\n",
    "for i in range(11, 20, 2):\n",
    "    elemento = cv2.getStructuringElement(cv2.MORPH_RECT, (i, i))\n",
    "    elementos_estructurantes.append(elemento)\n",
    "\n",
    "for i in range(21, 28, 2):\n",
    "    elemento = cv2.getStructuringElement(cv2.MORPH_CROSS, (i, i))\n",
    "    elementos_estructurantes.append(elemento)\n",
    "\n",
    "caracteristicas = []\n",
    "for elemento in elementos_estructurantes:\n",
    "    erosion = cv2.erode(imagen_firma, elemento)\n",
    "    pixeles_encendidos = np.sum(erosion > 0)\n",
    "    caracteristicas.append(pixeles_encendidos)\n",
    "\n",
    "print(caracteristicas)\n",
    "print(len(caracteristicas))"
   ]
  }
 ],
 "metadata": {
  "kernelspec": {
   "display_name": "Python 3",
   "language": "python",
   "name": "python3"
  },
  "language_info": {
   "codemirror_mode": {
    "name": "ipython",
    "version": 3
   },
   "file_extension": ".py",
   "mimetype": "text/x-python",
   "name": "python",
   "nbconvert_exporter": "python",
   "pygments_lexer": "ipython3",
   "version": "3.11.3"
  }
 },
 "nbformat": 4,
 "nbformat_minor": 2
}
